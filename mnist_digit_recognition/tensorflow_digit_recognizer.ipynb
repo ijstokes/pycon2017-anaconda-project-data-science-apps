{
 "cells": [
  {
   "cell_type": "markdown",
   "metadata": {},
   "source": [
    "DEPLOY: Digit Recognition With Trained Keras+Tensorflow Model\n",
    "===========================\n",
    " \n",
    "<table>\n",
    "<tr><td>\n",
    "<a href=https://keras.io><img src=\"https://keras.io/img/keras-logo-small.jpg\" width=150></a>\n",
    "</td>\n",
    "<td>\n",
    "<a href=https://www.tensorflow.org/><img src=\"https://www.tensorflow.org/_static/images/tensorflow/logo.png\" width=150></a>\n",
    "</td></tr>\n",
    "</table>\n",
    "\n",
    " \n",
    "You will need to have [Keras](https://keras.io/) 1.2.1 and [TensorFlow](https://www.tensorflow.org/) installed, both available as conda packages.\n",
    "\n",
    "```\n",
    "conda install -c conda-forge keras tensorflow\n",
    "```\n",
    "\n",
    "This is based on François Chollet's (author of Keras) Convolutional Neural Net example. <a href='http://twitter.com/fchollet'>@fchollet</a>\n",
    "\n",
    "You will need to have already trained the model and saved it to disk.  You should have it in a file called:\n",
    "\n",
    "**`tf_digit_model_10epoch_10class_128batch.h5`**"
   ]
  },
  {
   "cell_type": "markdown",
   "metadata": {},
   "source": [
    "Test Data: Load and Prep\n",
    "----------------------\n",
    "\n",
    "We repeat these steps so you can, if you choose, restart your kernel and then just execute from here"
   ]
  },
  {
   "cell_type": "code",
   "execution_count": null,
   "metadata": {
    "collapsed": false
   },
   "outputs": [],
   "source": [
    "%config InlineBackend.figure_format = 'retina'\n",
    "%matplotlib inline"
   ]
  },
  {
   "cell_type": "code",
   "execution_count": null,
   "metadata": {
    "collapsed": false
   },
   "outputs": [],
   "source": [
    "import os\n",
    "\n",
    "import tensorflow as tf\n",
    "\n",
    "from   keras.backend.tensorflow_backend import set_session\n",
    "from   keras.datasets import mnist\n",
    "from   keras          import backend as K\n",
    "from   keras.utils    import np_utils\n",
    "\n",
    "img_rows, img_cols = 28, 28 # input image dimensions\n",
    "nb_classes         = 10\n",
    "\n",
    "# Limit GPU memory consumption to 30%\n",
    "\n",
    "config = tf.ConfigProto()\n",
    "config.gpu_options.per_process_gpu_memory_fraction = 0.8\n",
    "set_session(tf.Session(config=config))\n",
    "\n",
    "os.environ['KERAS_BACKEND'] = 'tensorflow'"
   ]
  },
  {
   "cell_type": "code",
   "execution_count": null,
   "metadata": {
    "collapsed": true
   },
   "outputs": [],
   "source": [
    "dummy, (X_test, y_test) = mnist.load_data()"
   ]
  },
  {
   "cell_type": "code",
   "execution_count": null,
   "metadata": {
    "collapsed": false
   },
   "outputs": [],
   "source": [
    "print(X_test.shape[0], 'test samples')"
   ]
  },
  {
   "cell_type": "code",
   "execution_count": null,
   "metadata": {
    "collapsed": false
   },
   "outputs": [],
   "source": [
    "if K.image_dim_ordering() == 'th':\n",
    "    X_test      = X_test.reshape(X_test.shape[0], 1, img_rows, img_cols)\n",
    "else:\n",
    "    X_test      = X_test.reshape(X_test.shape[0], img_rows, img_cols, 1)"
   ]
  },
  {
   "cell_type": "code",
   "execution_count": null,
   "metadata": {
    "collapsed": true
   },
   "outputs": [],
   "source": [
    "X_test  = X_test.astype('float32')\n",
    "X_test  /= 255\n",
    "# convert class vectors to binary class matrices\n",
    "Y_test  = np_utils.to_categorical(y_test, nb_classes)"
   ]
  },
  {
   "cell_type": "markdown",
   "metadata": {},
   "source": [
    "Load the PRE-TRAINED Model\n",
    "-------------------------\n",
    "Notice how long it takes to load a pre-trained model.\n",
    "\n",
    "Want to guess how long it takes to train that model in the first place?"
   ]
  },
  {
   "cell_type": "code",
   "execution_count": null,
   "metadata": {
    "collapsed": false
   },
   "outputs": [],
   "source": [
    "%%time\n",
    "from keras.models import load_model\n",
    "\n",
    "model = load_model('tf_digit_model_10epoch_10class_128batch.h5')"
   ]
  },
  {
   "cell_type": "markdown",
   "metadata": {},
   "source": [
    "Now score the model using the test set\n",
    "------------------------------------"
   ]
  },
  {
   "cell_type": "code",
   "execution_count": null,
   "metadata": {
    "collapsed": false,
    "scrolled": false
   },
   "outputs": [],
   "source": [
    "%%time\n",
    "score   = model.evaluate(X_test, Y_test, verbose=0)\n",
    "print('Test score:',    score[0])\n",
    "print('Test accuracy:', score[1])"
   ]
  },
  {
   "cell_type": "markdown",
   "metadata": {},
   "source": [
    "Analyze the prediction failures\n",
    "-----------------------------"
   ]
  },
  {
   "cell_type": "code",
   "execution_count": null,
   "metadata": {
    "collapsed": false
   },
   "outputs": [],
   "source": [
    "y_predict = model.predict_classes(X_test)\n",
    "fails     = y_predict != y_test"
   ]
  },
  {
   "cell_type": "code",
   "execution_count": null,
   "metadata": {
    "collapsed": false
   },
   "outputs": [],
   "source": [
    "dummy, (X_test, y_test) = mnist.load_data()\n",
    "\n",
    "X_test_fails    = X_test[fails]\n",
    "y_test_fails    = y_test[fails]\n",
    "y_predict_fails = y_predict[fails]"
   ]
  },
  {
   "cell_type": "markdown",
   "metadata": {},
   "source": [
    "What Does Failure Look Like?\n",
    "--------------------------\n",
    "Take a look at digits that were incorrectly recognized"
   ]
  },
  {
   "cell_type": "code",
   "execution_count": null,
   "metadata": {
    "collapsed": false
   },
   "outputs": [],
   "source": [
    "import matplotlib.pyplot as plt\n",
    "plt.rcParams['figure.figsize'] = 10, 5\n",
    "\n",
    "for i in range(12):\n",
    "    plt.subplot(3, 4, i+1)\n",
    "    plt.imshow(X_test_fails[i], cmap='gray_r')\n",
    "    plt.title('Predict: %d, Actual: %d' % (y_predict_fails[i], y_test_fails[i]))\n",
    "    plt.xticks([])\n",
    "    plt.yticks([])\n",
    "#plt.tight_layout()"
   ]
  },
  {
   "cell_type": "code",
   "execution_count": null,
   "metadata": {
    "collapsed": true
   },
   "outputs": [],
   "source": []
  }
 ],
 "metadata": {
  "anaconda-cloud": {},
  "kernelspec": {
   "display_name": "Python 3",
   "language": "python",
   "name": "python3"
  },
  "language_info": {
   "codemirror_mode": {
    "name": "ipython",
    "version": 3
   },
   "file_extension": ".py",
   "mimetype": "text/x-python",
   "name": "python",
   "nbconvert_exporter": "python",
   "pygments_lexer": "ipython3",
   "version": "3.6.1"
  }
 },
 "nbformat": 4,
 "nbformat_minor": 2
}
