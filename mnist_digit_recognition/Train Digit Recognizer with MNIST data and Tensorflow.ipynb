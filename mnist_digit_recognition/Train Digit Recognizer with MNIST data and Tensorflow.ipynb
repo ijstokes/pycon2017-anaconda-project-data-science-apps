{
 "cells": [
  {
   "cell_type": "markdown",
   "metadata": {},
   "source": [
    "TRAIN: Deep Learning with Keras, TensorFlow, and Anaconda\n",
    "===========================\n",
    " \n",
    "<table>\n",
    "<tr><td>\n",
    "<a href=https://keras.io><img src=\"https://keras.io/img/keras-logo-small.jpg\" width=150></a>\n",
    "</td>\n",
    "<td>\n",
    "<a href=https://www.tensorflow.org/><img src=\"https://www.tensorflow.org/_static/images/tensorflow/logo.png\" width=150></a>\n",
    "</td></tr>\n",
    "</table>\n",
    "\n",
    "You will need to have [Keras](https://keras.io/) 1.2.1 and [TensorFlow](https://www.tensorflow.org/) installed, both available as conda packages.\n",
    "\n",
    "```\n",
    "conda install -c conda-forge keras tensorflow\n",
    "```\n",
    "\n",
    "This is based on François Chollet's (author of Keras) Convolutional Neural Net example. <a href='http://twitter.com/fchollet'>@fchollet</a>"
   ]
  },
  {
   "cell_type": "markdown",
   "metadata": {},
   "source": [
    "Initial Jupyter Notebook and Keras setup\n",
    "--------------------------------------"
   ]
  },
  {
   "cell_type": "code",
   "execution_count": null,
   "metadata": {
    "collapsed": false
   },
   "outputs": [],
   "source": [
    "%config InlineBackend.figure_format = 'retina'\n",
    "%matplotlib inline"
   ]
  },
  {
   "cell_type": "code",
   "execution_count": null,
   "metadata": {
    "collapsed": true
   },
   "outputs": [],
   "source": [
    "import os\n",
    "os.environ['KERAS_BACKEND'] = 'tensorflow'"
   ]
  },
  {
   "cell_type": "code",
   "execution_count": null,
   "metadata": {
    "collapsed": false
   },
   "outputs": [],
   "source": [
    "import numpy as np\n",
    "import matplotlib.pyplot as plt\n",
    "plt.rcParams['figure.figsize'] = 10, 5\n",
    "\n",
    "from keras.datasets import mnist\n",
    "from keras.models   import Sequential\n",
    "from keras.layers   import Dense, Dropout, Activation, Flatten\n",
    "from keras.layers   import Conv2D, MaxPooling2D\n",
    "from keras.utils    import np_utils\n",
    "from keras          import backend as K"
   ]
  },
  {
   "cell_type": "markdown",
   "metadata": {},
   "source": [
    "Configure Keras to use TensorFlow and setup GPU\n",
    "--------------------------------------------"
   ]
  },
  {
   "cell_type": "code",
   "execution_count": null,
   "metadata": {
    "collapsed": false
   },
   "outputs": [],
   "source": [
    "# Limit GPU memory consumption to 30%\n",
    "import tensorflow as tf\n",
    "from   keras.backend.tensorflow_backend import set_session\n",
    "config = tf.ConfigProto()\n",
    "config.gpu_options.per_process_gpu_memory_fraction = 0.8\n",
    "set_session(tf.Session(config=config))"
   ]
  },
  {
   "cell_type": "markdown",
   "metadata": {},
   "source": [
    "Setup training parameters\n",
    "------------------------"
   ]
  },
  {
   "cell_type": "code",
   "execution_count": null,
   "metadata": {
    "collapsed": true
   },
   "outputs": [],
   "source": [
    "batch_size         = 128\n",
    "nb_classes         = 10\n",
    "nb_epoch           = 10\n",
    "\n",
    "img_rows, img_cols = 28, 28 # input image dimensions\n",
    "nb_filters         = 32     # number of convolutional filters to use\n",
    "pool_size          = (2, 2) # size of pooling area for max pooling\n",
    "kernel_size        = (3, 3) # convolution kernel size"
   ]
  },
  {
   "cell_type": "markdown",
   "metadata": {},
   "source": [
    "Load training and testing data\n",
    "----------------------------"
   ]
  },
  {
   "cell_type": "code",
   "execution_count": null,
   "metadata": {
    "collapsed": false
   },
   "outputs": [],
   "source": [
    "# the data, shuffled and split between train and test sets\n",
    "(X_train, y_train), (X_test, y_test) = mnist.load_data()"
   ]
  },
  {
   "cell_type": "code",
   "execution_count": null,
   "metadata": {
    "collapsed": false
   },
   "outputs": [],
   "source": [
    "print(X_train.shape)\n",
    "for i in range(21):\n",
    "    plt.subplot(3, 7, i+1)\n",
    "    plt.imshow(X_train[i], cmap='gray_r')\n",
    "    plt.title('Digit: %d' % y_train[i])\n",
    "    plt.xticks([])\n",
    "    plt.yticks([])"
   ]
  },
  {
   "cell_type": "markdown",
   "metadata": {},
   "source": [
    "Clean up the MNIST data\n",
    "----------------------"
   ]
  },
  {
   "cell_type": "code",
   "execution_count": null,
   "metadata": {
    "collapsed": true
   },
   "outputs": [],
   "source": [
    "if K.image_dim_ordering() == 'th':\n",
    "    X_train     = X_train.reshape(X_train.shape[0], 1, img_rows, img_cols)\n",
    "    X_test      = X_test.reshape(X_test.shape[0], 1, img_rows, img_cols)\n",
    "    input_shape = (1, img_rows, img_cols)\n",
    "else:\n",
    "    X_train     = X_train.reshape(X_train.shape[0], img_rows, img_cols, 1)\n",
    "    X_test      = X_test.reshape(X_test.shape[0], img_rows, img_cols, 1)\n",
    "    input_shape = (img_rows, img_cols, 1)"
   ]
  },
  {
   "cell_type": "code",
   "execution_count": null,
   "metadata": {
    "collapsed": true
   },
   "outputs": [],
   "source": [
    "X_train = X_train.astype('float32')\n",
    "X_test  = X_test.astype('float32')\n",
    "X_train /= 255\n",
    "X_test  /= 255"
   ]
  },
  {
   "cell_type": "code",
   "execution_count": null,
   "metadata": {
    "collapsed": false
   },
   "outputs": [],
   "source": [
    "print('X_train shape:', X_train.shape)\n",
    "print(X_train.shape[0], 'train samples')\n",
    "print(X_test.shape[0], 'test samples')"
   ]
  },
  {
   "cell_type": "code",
   "execution_count": null,
   "metadata": {
    "collapsed": false
   },
   "outputs": [],
   "source": [
    "# convert class vectors to binary class matrices\n",
    "Y_train = np_utils.to_categorical(y_train, nb_classes)\n",
    "Y_test  = np_utils.to_categorical(y_test, nb_classes)"
   ]
  },
  {
   "cell_type": "markdown",
   "metadata": {},
   "source": [
    "Use Keras to build the neural net topology in layers\n",
    "-------------------------------------------------\n",
    "Notice all the `.add()` methods that construct the topology"
   ]
  },
  {
   "cell_type": "code",
   "execution_count": null,
   "metadata": {
    "collapsed": false
   },
   "outputs": [],
   "source": [
    "tf.device('/cpu:0')  # /cpu:0 regular CPU, /gpu:0 for on-board CUDA-enabled GPU\n",
    "model = Sequential()\n",
    "\n",
    "model.add(Conv2D(nb_filters, kernel_size[0], kernel_size[1],\n",
    "                        border_mode='valid',\n",
    "                        input_shape=input_shape))\n",
    "model.add(Activation('relu'))\n",
    "model.add(Conv2D(nb_filters, kernel_size[0], kernel_size[1]))\n",
    "model.add(Activation('relu'))\n",
    "model.add(MaxPooling2D(pool_size=pool_size))\n",
    "model.add(Dropout(0.25))\n",
    "\n",
    "model.add(Flatten())\n",
    "model.add(Dense(64))\n",
    "model.add(Activation('relu'))\n",
    "model.add(Dropout(0.5))\n",
    "model.add(Dense(nb_classes))\n",
    "model.add(Activation('softmax'))\n",
    "\n",
    "model.compile(loss='categorical_crossentropy',\n",
    "              optimizer='adadelta',\n",
    "              metrics=['accuracy'])"
   ]
  },
  {
   "cell_type": "code",
   "execution_count": null,
   "metadata": {
    "collapsed": false
   },
   "outputs": [],
   "source": [
    "import pydot_ng as pydot\n",
    "pydot.find_graphviz()"
   ]
  },
  {
   "cell_type": "code",
   "execution_count": null,
   "metadata": {
    "collapsed": false
   },
   "outputs": [],
   "source": [
    "from IPython.display       import SVG\n",
    "from keras.utils.vis_utils import model_to_dot"
   ]
  },
  {
   "cell_type": "markdown",
   "metadata": {},
   "source": [
    "Visualize Neural Net\n",
    "-------------------\n",
    "The following may not work.  You need to have `pydot` and `graphviz` installed and working together nicely.\n",
    "\n",
    "If it fails all you're missing out on is a graphic of the neural net topology that you've created just above."
   ]
  },
  {
   "cell_type": "code",
   "execution_count": null,
   "metadata": {
    "collapsed": false
   },
   "outputs": [],
   "source": [
    "SVG(model_to_dot(model).create(prog='dot', format='svg'))"
   ]
  },
  {
   "cell_type": "markdown",
   "metadata": {},
   "source": [
    "Use the training set to train the model over 10 epochs\n",
    "---------------------------------------------------\n",
    "\n",
    "This is going to take awhile, so you can jump to see what the output WOULD look like by going here:\n",
    "\n",
    "[https://anaconda.org/ijstokes/train-digit-recognizer-with-mnist-data-and-tensorflow\n",
    "](https://anaconda.org/ijstokes/train-digit-recognizer-with-mnist-data-and-tensorflow\n",
    ")"
   ]
  },
  {
   "cell_type": "code",
   "execution_count": null,
   "metadata": {
    "collapsed": false
   },
   "outputs": [],
   "source": [
    "%%time\n",
    "history = model.fit(X_train, Y_train, \n",
    "                    batch_size      = batch_size, \n",
    "                    epochs          = nb_epoch,\n",
    "                    verbose         = 1, \n",
    "                    validation_data = (X_test, Y_test)) # validation data used to track progress"
   ]
  },
  {
   "cell_type": "code",
   "execution_count": null,
   "metadata": {
    "collapsed": false
   },
   "outputs": [],
   "source": [
    "plt.plot(history.epoch, history.history['acc'])\n",
    "plt.title('Accuracy');plt.xlabel('Epoch');plt.ylabel('%')"
   ]
  },
  {
   "cell_type": "markdown",
   "metadata": {},
   "source": [
    "Model Training Success! To the Bank!\n",
    "----------------------------------\n",
    "We have a trained TF model with 97% accurracy, which is pretty good for a relatively quick setup.  Now we want to save that trained model so we don't have to re-run this again and again."
   ]
  },
  {
   "cell_type": "code",
   "execution_count": null,
   "metadata": {
    "collapsed": true
   },
   "outputs": [],
   "source": [
    "model.save('tf_digit_model_10epoch_10class_128batch.h5')"
   ]
  },
  {
   "cell_type": "code",
   "execution_count": null,
   "metadata": {
    "collapsed": false
   },
   "outputs": [],
   "source": [
    "!ls -Flah *.h5"
   ]
  }
 ],
 "metadata": {
  "anaconda-cloud": {},
  "kernelspec": {
   "display_name": "Python [default]",
   "language": "python",
   "name": "python3"
  },
  "language_info": {
   "codemirror_mode": {
    "name": "ipython",
    "version": 3
   },
   "file_extension": ".py",
   "mimetype": "text/x-python",
   "name": "python",
   "nbconvert_exporter": "python",
   "pygments_lexer": "ipython3",
   "version": "3.6.0"
  }
 },
 "nbformat": 4,
 "nbformat_minor": 2
}
