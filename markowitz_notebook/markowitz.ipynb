{
 "cells": [
  {
   "cell_type": "markdown",
   "metadata": {
    "hideCode": false,
    "hidePrompt": false
   },
   "source": [
    "## Markowitz portfolio design using [Pandas](http://pandas.pydata.org) and [Bokeh](http://bokeh.pydata.org/en/latest/)"
   ]
  },
  {
   "cell_type": "markdown",
   "metadata": {
    "hideCode": false,
    "hidePrompt": false
   },
   "source": [
    "This notebook was adapted from https://anaconda.org/mcg/markowitz/notebook."
   ]
  },
  {
   "cell_type": "code",
   "execution_count": null,
   "metadata": {
    "collapsed": false,
    "hideCode": false,
    "hidePrompt": false
   },
   "outputs": [],
   "source": [
    "import sys\n",
    "\n",
    "from math import sqrt\n",
    "\n",
    "import pandas as pd\n",
    "import numpy as np\n",
    "\n",
    "from bokeh.plotting import figure, show\n",
    "from bokeh.models import Range1d\n",
    "from bokeh.io import output_notebook\n",
    "\n",
    "output_notebook()"
   ]
  },
  {
   "cell_type": "markdown",
   "metadata": {
    "hideCode": false,
    "hidePrompt": false
   },
   "source": [
    "A few helpful subroutines..."
   ]
  },
  {
   "cell_type": "code",
   "execution_count": null,
   "metadata": {
    "collapsed": false,
    "hideCode": false,
    "hidePrompt": false
   },
   "outputs": [],
   "source": [
    "default_colors = [(165,0,38),(215,48,39),(244,109,67),(253,174,97),\n",
    "                  (254,224,144),(255,255,191),(224,243,248),\n",
    "                  (171,217,233),(116,173,209),(69,117,180),(49,54,149)]\n",
    "default_colors = [default_colors[k] for k in [0,10,2,8,4,6,1,9,3,7]]\n",
    "\n",
    "# Accepts a DataFrame or a Series of return data and produces the corresponding\n",
    "# cumulative return trajectories.\n",
    "def cum_growth(x):\n",
    "    T0 = x.index[[0]] - (x.index[1]-x.index[0])\n",
    "    if type(x) is pd.DataFrame:\n",
    "        x0 = pd.DataFrame(1,columns=x.columns,index=T0)\n",
    "    else:\n",
    "        x0 = pd.Series(1,name=x.name,index=T0)\n",
    "    x = x0.append(x+1).cumprod()\n",
    "    return x\n",
    "\n",
    "def port_growth(p):\n",
    "    return cum_growth(data.dot(p))\n",
    "\n",
    "def port_mean(p):\n",
    "    return means.dot(p)\n",
    "\n",
    "def port_risk(p):\n",
    "    return sqrt(cmat.dot(p).dot(p))\n",
    "\n",
    "# Pretty-prints the portfolio allocation\n",
    "def print_portfolio(p):\n",
    "    vals = 100.0 * p.sort_values(ascending=False)\n",
    "    ndx = 0\n",
    "    for v in vals.iteritems():\n",
    "        if v[1] == 0:\n",
    "            continue\n",
    "        if ndx == 4:\n",
    "            print('')\n",
    "            ndx = 0 \n",
    "        sys.stdout.write('  %4s: %5.1f%%'%v)\n",
    "        ndx += 1\n",
    "    print('')\n",
    "    print('Expected return: {}'.format(port_mean(p)))\n",
    "    print('Standard deviation: {}'.format(port_risk(p)))"
   ]
  },
  {
   "cell_type": "markdown",
   "metadata": {
    "hideCode": false,
    "hidePrompt": false
   },
   "source": [
    "Let's load up our sample data, which consists of normalized return data from the Dow Jones Industrial Average portfolio companies in 2012. The data comes to us courtesy of [Ronald Hochreiter](http://www.hochreiter.net/ronald/index/)'s site [Finance-R](http://www.finance-r.com)."
   ]
  },
  {
   "cell_type": "code",
   "execution_count": null,
   "metadata": {
    "collapsed": false,
    "hideCode": false,
    "hidePrompt": false
   },
   "outputs": [],
   "source": [
    "data = pd.DataFrame.from_csv('markowitz.csv')\n",
    "data.index = pd.to_datetime(data.index, format='%Y-%m-%d', errors='coerce')\n",
    "data.dropna(inplace=True)\n",
    "data.head()"
   ]
  },
  {
   "cell_type": "code",
   "execution_count": null,
   "metadata": {
    "collapsed": false,
    "hideCode": false,
    "hidePrompt": false
   },
   "outputs": [],
   "source": [
    "data.info()"
   ]
  },
  {
   "cell_type": "markdown",
   "metadata": {
    "hideCode": false,
    "hidePrompt": false
   },
   "source": [
    "We can look at this data in a variety of ways. First, some bulk statistics:"
   ]
  },
  {
   "cell_type": "code",
   "execution_count": null,
   "metadata": {
    "collapsed": true,
    "hideCode": false,
    "hidePrompt": false
   },
   "outputs": [],
   "source": [
    "N           = data.shape[1]\n",
    "means       = data.mean()\n",
    "cmat        = data.cov()\n",
    "stds        = data.std()\n",
    "syms        = data.columns\n",
    "maxret      = means.max()\n",
    "minret      = means.min()\n",
    "p_equal     = np.full(N,1.0/N)"
   ]
  },
  {
   "cell_type": "code",
   "execution_count": null,
   "metadata": {
    "collapsed": true,
    "hideCode": false,
    "hidePrompt": false
   },
   "outputs": [],
   "source": [
    "maxret_symb = means.idxmax()\n",
    "minret_symb = means.idxmin()\n",
    "maxvar_symb = stds.idxmax()\n",
    "minvar_symb = stds.idxmin()\n",
    "extremes    = { maxret_symb, minret_symb, maxvar_symb, minvar_symb }"
   ]
  },
  {
   "cell_type": "code",
   "execution_count": null,
   "metadata": {
    "collapsed": false,
    "hideCode": false,
    "hidePrompt": false
   },
   "outputs": [],
   "source": [
    "print('Maximum return:   {}: {:+5.2f}% +/- {:4.2f}%'\n",
    "      .format(maxret_symb,means[maxret_symb]*100,stds[maxret_symb]*100))\n",
    "print('Maximum variance: {}: {:+5.2f}% +/- {:4.2f}%'\n",
    "      .format(maxvar_symb,means[maxvar_symb]*100,stds[maxvar_symb]*100))\n",
    "print('Minimum return:   {}: {:+5.2f}% +/- {:4.2f}%'\n",
    "      .format(minret_symb,means[minret_symb]*100,stds[minret_symb]*100))\n",
    "print('Minimum variance: {}: {:+5.2f}% +/- {:4.2f}%'\n",
    "      .format(minvar_symb,means[minvar_symb]*100,stds[minvar_symb]*100))\n",
    "print('Equal allocation:      {:+5.2f}% +/- {:4.2f}%'\n",
    "      .format(port_mean(p_equal)*100,port_risk(p_equal)*100))"
   ]
  },
  {
   "cell_type": "markdown",
   "metadata": {
    "hideCode": false,
    "hidePrompt": false
   },
   "source": [
    "Now let's plot the growth of each stock over the course of the year, normalized so that each stock starts at 1.00 at the beginning of the year. Since the data was already given to us in units of incremental growth ($P_k/P_{k-1}-1$), we have to do a bit of backtracking to recover the original historical trends."
   ]
  },
  {
   "cell_type": "code",
   "execution_count": null,
   "metadata": {
    "collapsed": false,
    "hideCode": false,
    "hidePrompt": false
   },
   "outputs": [],
   "source": [
    "tmp = cum_growth(data)\n",
    "tx = tmp.index\n",
    "fig = figure(x_axis_type='datetime',y_axis_type='log',tools=\"pan,box_zoom,reset,resize\")\n",
    "cndx = 0\n",
    "tmax = tx[list(-np.ones(N, dtype=np.int8))]\n",
    "for symb in extremes:\n",
    "    fig.line(tx,tmp[symb],legend=symb,color=default_colors[cndx],line_width=2)\n",
    "    cndx += 1\n",
    "for symb in syms:\n",
    "    if symb not in extremes:\n",
    "        fig.line(tx,tmp[symb],color=default_colors[cndx],alpha=0.75)\n",
    "fig.text(tmax,tmp.iloc[-1,:],syms,text_font_size='10px',text_baseline='middle',alpha=0.5)\n",
    "fig.line(tx,port_growth(p_equal),color='purple',legend='equal allocation',line_width=2)\n",
    "fig.y_range = Range1d(tmp.values.min()/1.25,1.25*tmp.values.max())\n",
    "fig.legend.location='bottom_left'\n",
    "show(fig)"
   ]
  },
  {
   "cell_type": "markdown",
   "metadata": {
    "hideCode": false,
    "hidePrompt": false
   },
   "source": [
    "As we move towards our Markowitz portfolio designs it makes sense to view the stocks on a mean/variance scatter plot. We can clearly see that `BAC` and `HPQ` are performance outliers; sadly for `HPQ`, in opposite directions..."
   ]
  },
  {
   "cell_type": "code",
   "execution_count": null,
   "metadata": {
    "collapsed": false,
    "hideCode": false,
    "hidePrompt": false,
    "scrolled": false
   },
   "outputs": [],
   "source": [
    "fig = figure(tools=\"pan,box_zoom,reset,resize\")\n",
    "fig.circle(stds,means,size=5,color=default_colors[0])\n",
    "fig.text(stds,means,syms,text_font_size='10px',x_offset=3,y_offset=-2)\n",
    "fig.xaxis.axis_label='Standard deviation'\n",
    "fig.yaxis.axis_label='Expected return'\n",
    "show(fig)"
   ]
  },
  {
   "cell_type": "markdown",
   "metadata": {
    "hideCode": false,
    "hidePrompt": false
   },
   "source": [
    "### Random portfolios\n",
    "\n",
    "First let us consider a Monte-Carlo style approach to studying the tradeoffs between return and risk. To that end, we draw from a uniform distributiuon on the unit simplex: the total budget sums to 1, all allocations nonnegative (that is, no shorting)."
   ]
  },
  {
   "cell_type": "code",
   "execution_count": null,
   "metadata": {
    "collapsed": false,
    "hideCode": false,
    "hidePrompt": false
   },
   "outputs": [],
   "source": [
    "n_pts = 10000\n",
    "X = np.random.uniform(size=(n_pts,N+1))\n",
    "X[:,0] = 0; X[:,-1] = 1\n",
    "X[:,1:-1].sort(axis=1)\n",
    "X = np.diff(X,axis=1)\n",
    "X = pd.DataFrame(X, columns=data.columns)\n",
    "means_X = X.dot(means)\n",
    "stds_X = np.sqrt((X*X.dot(cmat)).sum(axis=1))\n",
    "mc_minret = means_X.idxmin()\n",
    "mc_maxret = means_X.idxmax()\n",
    "mc_minrisk = stds_X.idxmin()\n",
    "mc_maxrisk = stds_X.idxmax()"
   ]
  },
  {
   "cell_type": "markdown",
   "metadata": {
    "hideCode": false,
    "hidePrompt": false
   },
   "source": [
    "Plot 100 of the sample portfolios, as well as the ones with minimum/maximum risk/return. Note that the sample portfolios tend not to deviate significantly from the equal allocation portfolio, and remain far from the performance of `HPQ` or `BAC`."
   ]
  },
  {
   "cell_type": "code",
   "execution_count": null,
   "metadata": {
    "collapsed": false,
    "hideCode": false,
    "hidePrompt": false
   },
   "outputs": [],
   "source": [
    "fig = figure(x_axis_type='datetime',y_axis_type='log',tools=\"pan,box_zoom,reset,resize\")\n",
    "tmp = port_growth(X[:100].T)\n",
    "for k in range(tmp.shape[1]):\n",
    "    fig.line(tx,tmp.iloc[:,k],color=default_colors[5])\n",
    "fig.line(tx,port_growth(X.iloc[means_X.idxmin()]),line_width=2,color=default_colors[3],legend='lowest return')\n",
    "fig.line(tx,port_growth(X.iloc[means_X.idxmax()]),line_width=2,color=default_colors[4],legend='highest return')\n",
    "tmp = cum_growth(data[maxret_symb])\n",
    "tmax = tmp.max()\n",
    "fig.line(tmp.index,tmp.values,legend=maxret_symb,line_width=2,color=default_colors[0])\n",
    "tmp = cum_growth(data[minret_symb])\n",
    "tmin = tmp.min()\n",
    "fig.line(tx,tmp.values,legend=minret_symb,line_width=2,color=default_colors[1])\n",
    "fig.line(tx,port_growth(p_equal),legend='equal allocation',line_width=2,color=default_colors[2])\n",
    "fig.y_range = Range1d(tmin/1.25,1.25*tmax)\n",
    "fig.legend.location=\"bottom_left\"\n",
    "show(fig)"
   ]
  },
  {
   "cell_type": "markdown",
   "metadata": {
    "hideCode": false,
    "hidePrompt": false
   },
   "source": [
    "A view of the cloud of mean/variance performance for the random portfolios reinforces this concern. The points are highly concentrated around a low performance center, though we do begin to see that some portfolios fall outside of the convex hull formed from the individual stocks. Some sort of optimization model is necessary to explore the limits of performance. "
   ]
  },
  {
   "cell_type": "code",
   "execution_count": null,
   "metadata": {
    "collapsed": false,
    "hideCode": false,
    "hidePrompt": false,
    "scrolled": false
   },
   "outputs": [],
   "source": [
    "fig = figure(tools=\"pan,box_zoom,reset,resize\")\n",
    "fig.circle(stds_X,means_X,size=0.5,alpha=0.1,color=default_colors[0])\n",
    "fig.circle(stds,means,size=5,color=default_colors[1])\n",
    "fig.text(stds,means,syms,text_font_size='10px',alpha=0.5,x_offset=3,y_offset=-2)\n",
    "fig.xaxis.axis_label='Standard deviation'\n",
    "fig.yaxis.axis_label='Expected return'\n",
    "show(fig)"
   ]
  },
  {
   "cell_type": "code",
   "execution_count": null,
   "metadata": {
    "collapsed": false
   },
   "outputs": [],
   "source": [
    "sys.executable"
   ]
  },
  {
   "cell_type": "code",
   "execution_count": null,
   "metadata": {
    "collapsed": true
   },
   "outputs": [],
   "source": []
  }
 ],
 "metadata": {
  "hide_code_all_hidden": false,
  "kernelspec": {
   "display_name": "Python [default]",
   "language": "python",
   "name": "python3"
  },
  "language_info": {
   "codemirror_mode": {
    "name": "ipython",
    "version": 3
   },
   "file_extension": ".py",
   "mimetype": "text/x-python",
   "name": "python",
   "nbconvert_exporter": "python",
   "pygments_lexer": "ipython3",
   "version": "3.6.0"
  }
 },
 "nbformat": 4,
 "nbformat_minor": 0
}
